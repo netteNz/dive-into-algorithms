{
 "cells": [
  {
   "attachments": {},
   "cell_type": "markdown",
   "id": "82465f0b",
   "metadata": {},
   "source": [
    "## Implementing RPM in Python\n",
    "\n",
    "- Multiplication of two numbers\n"
   ]
  },
  {
   "cell_type": "code",
   "execution_count": 3,
   "id": "25f733b0",
   "metadata": {},
   "outputs": [
    {
     "name": "stdout",
     "output_type": "stream",
     "text": [
      "44\n"
     ]
    }
   ],
   "source": [
    "# define two variables\n",
    "n1 = 89\n",
    "n2 = 18\n",
    "\n",
    "# halving column\n",
    "halving = [n1]\n",
    "\n",
    "# second row of the column\n",
    "import math\n",
    "print(math.floor(halving[0]/2))"
   ]
  },
  {
   "cell_type": "code",
   "execution_count": 1,
   "id": "2b58ab9b",
   "metadata": {},
   "outputs": [],
   "source": [
    "import math\n",
    "\n",
    "# define two variables\n",
    "n1 = 89\n",
    "n2 = 18\n",
    "\n",
    "# halving column\n",
    "halving = [n1]\n",
    "\n",
    "while (min(halving) > 1):\n",
    "    halving.append(math.floor(min(halving)/2))\n"
   ]
  },
  {
   "attachments": {},
   "cell_type": "markdown",
   "id": "c2f46400",
   "metadata": {},
   "source": [
    "```python\n",
    "import math\n",
    "import pandas as pd\n",
    "\n",
    "n1 = 89\n",
    "n2 = 18\n",
    "\n",
    "halving = [n1]\n",
    "doubling = [n2]\n",
    "\n",
    "half_double = pd.DataFrame(zip(halving, doubling), columns=['halving', 'doubling'])\n",
    "\n",
    "while(len(doubling) < len(halving)):\n",
    "    doubling.append(max(doubling) * 2)\n",
    "\n",
    "while min(halving) > 1:\n",
    "    halving.append(math.floor(min(halving)/2))\n",
    "```\n",
    "\n",
    "- We imported the Python module called pandas here. This module\n",
    "enables us to work with tables easily. In this case, we used the zip command,\n",
    "which, as suggested by its name, joins halving and doubling together\n",
    "like a zipper joins two sides of a garment together. The two sets of numbers,\n",
    "halving and doubling, start as independent lists, and after being zipped\n",
    "together and converted into a pandas dataframe, are stored in a table as two\n",
    "aligned columns\n",
    "\n",
    "- Now we need to remove the rows whose entries in the halving column\n",
    "are even.\n",
    "\n",
    "- We can test for evenness using the % (modulo) operator in Python,\n",
    "which returns a remainder after division. If a number x is odd, then x%2 will\n",
    "be 1. The following line will keep only the rows of the table whose entry in\n",
    "the halving column is odd\n",
    "\n",
    "```python\n",
    "half_double = half_double.loc[half_double[0] % 2 == 1,:]\n",
    "```\n",
    "- Finally, we simply take the sum of the remaining doubling entries\n",
    "```python\n",
    "answer = sum(half_double.loc[:, 1])\n",
    "```"
   ]
  },
  {
   "attachments": {},
   "cell_type": "markdown",
   "id": "f8fe7642",
   "metadata": {},
   "source": [
    "## Euclid's Algorithm\n",
    "- is a method for finding the greatest common divisor of two numbers. It is simple and elegant and takes only a few lines to implement in Python.\n",
    "\n",
    "- We begin with two natural (whole) numbers: let’s call them $a$ and $b$. Let’s say that $a$ is larger than $b$ (if it’s not, just rename $a$ to $b$ and rename $b$ to $a$, and then a will be larger).\n",
    " \n",
    "- If we divide $a/b$, we’ll get an integer quotient and an integer remainder. Let’s call the quotient $q_1$, and the remainder $c$. \n",
    "- We can write this as follows:\n",
    "\n",
    "$$a = q_1 * b + c$$\n",
    "\n",
    "- For example, if we say that $a = 105$ and $b = 33$, we find that 105/33 is 3, remainder 6.\n",
    "- The next step of the process is to forget about $a$, and focus on $b$ and $c$. Just like before, we say that $b$ is larger than $c$.\n",
    "\n",
    "- We then find the quotient and remainder when dividing $b/c$. If we say that $b/c$ is $q_2$, with remainder $d$, we can write our result as follows:\n",
    "\n",
    "$$b = q_2 * c + d$$\n",
    "\n",
    "- Again, d will be smaller than both b and c, since it’s a remainder. If you look at our two equations here, you can start to see a pattern: we’re working our way through the alphabet, shifting terms to the left every time.\n",
    "\n",
    "- You can see this pattern continue in our next step, in which we divide $c/d$, and call the quotient $q_3$ and the remainder $e$.\n",
    "\n",
    "$$c = q_3 * d + e$$\n",
    "\n",
    "## Implementing Euclid's Algorithm in Python\n",
    "```python\n",
    "def gcd(x, y):\n",
    "    larger = max(x, y)\n",
    "    smaller = min(x, y)\n",
    "    \n",
    "    remainder = larger % smaller\n",
    "    \n",
    "    if(reimainder == 0):\n",
    "        return(smaller)\n",
    "    \n",
    "    if(remainder != 0):\n",
    "        return(gcd(smaller, remainder))\n",
    "```"
   ]
  },
  {
   "cell_type": "code",
   "execution_count": 1,
   "id": "151d142c",
   "metadata": {},
   "outputs": [],
   "source": [
    "def gcd(x, y):\n",
    "    larger = max(x, y)\n",
    "    smaller = min(x, y)\n",
    "    \n",
    "    remainder = larger % smaller\n",
    "    \n",
    "    if(remainder == 0):\n",
    "        return(smaller)\n",
    "    \n",
    "    if(remainder != 0):\n",
    "        return(gcd(smaller, remainder))"
   ]
  },
  {
   "cell_type": "code",
   "execution_count": null,
   "id": "6327fe2f",
   "metadata": {},
   "outputs": [],
   "source": []
  }
 ],
 "metadata": {
  "kernelspec": {
   "display_name": "Python 3 (ipykernel)",
   "language": "python",
   "name": "python3"
  },
  "language_info": {
   "codemirror_mode": {
    "name": "ipython",
    "version": 3
   },
   "file_extension": ".py",
   "mimetype": "text/x-python",
   "name": "python",
   "nbconvert_exporter": "python",
   "pygments_lexer": "ipython3",
   "version": "3.11.2"
  }
 },
 "nbformat": 4,
 "nbformat_minor": 5
}
